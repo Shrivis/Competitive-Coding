{
 "cells": [
  {
   "cell_type": "code",
   "execution_count": 3,
   "id": "ffdc5a9d",
   "metadata": {},
   "outputs": [],
   "source": [
    "import requests\n",
    "# big_data_science_and_analytics_a_hands_on_approach"
   ]
  },
  {
   "cell_type": "code",
   "execution_count": null,
   "id": "05dc9553",
   "metadata": {},
   "outputs": [],
   "source": [
    "usr = \"httpe:/api.tommorow.io/v4/\"\n",
    "location = \"36.11,-115.17\"\n",
    "queryString = {\"location\": location, \"fields\":['temprature', \"windspeed\", \"winddir\"]}\n",
    "abc = request.request(url, queryString)"
   ]
  },
  {
   "cell_type": "code",
   "execution_count": null,
   "id": "0cfdf8cf",
   "metadata": {},
   "outputs": [],
   "source": [
    "import pandas as pd\n",
    "import json"
   ]
  },
  {
   "cell_type": "code",
   "execution_count": null,
   "id": "7b5b3093",
   "metadata": {},
   "outputs": [],
   "source": [
    "f =  open('washinton.txt', 'r', encoding='utf8')\n",
    "if (f is None):\n",
    "    print(\"Cannot Open file. error occured. Exiting\")\n",
    "    exit()"
   ]
  },
  {
   "cell_type": "code",
   "execution_count": null,
   "id": "ee776741",
   "metadata": {
    "collapsed": true
   },
   "outputs": [],
   "source": [
    "washington = json.load(f)\n",
    "washington_df = pd.Dataframe([x['value'] for x in intervals])\n",
    "washington_df"
   ]
  },
  {
   "cell_type": "code",
   "execution_count": null,
   "id": "385a0497",
   "metadata": {},
   "outputs": [],
   "source": [
    "import matplotlib.pyplot as plt"
   ]
  },
  {
   "cell_type": "code",
   "execution_count": null,
   "id": "ec461fff",
   "metadata": {},
   "outputs": [],
   "source": [
    "fig = plt.figure()\n",
    "ax = fig.add-axes([0,0,1,1])"
   ]
  },
  {
   "cell_type": "code",
   "execution_count": null,
   "id": "776d1865",
   "metadata": {},
   "outputs": [],
   "source": [
    "ax.bar(indexes)"
   ]
  }
 ],
 "metadata": {
  "kernelspec": {
   "display_name": "Python 3 (ipykernel)",
   "language": "python",
   "name": "python3"
  },
  "language_info": {
   "codemirror_mode": {
    "name": "ipython",
    "version": 3
   },
   "file_extension": ".py",
   "mimetype": "text/x-python",
   "name": "python",
   "nbconvert_exporter": "python",
   "pygments_lexer": "ipython3",
   "version": "3.10.6"
  }
 },
 "nbformat": 4,
 "nbformat_minor": 5
}
